{
 "cells": [
  {
   "cell_type": "code",
   "execution_count": 10,
   "metadata": {
    "collapsed": true
   },
   "outputs": [],
   "source": [
    "import psycopg2\n",
    "import csv\n",
    "import sqlite3"
   ]
  },
  {
   "cell_type": "code",
   "execution_count": 11,
   "metadata": {
    "collapsed": true
   },
   "outputs": [],
   "source": [
    "HEXACO_FACETS = [\n",
    "    'sincerity',\n",
    "    'fairness',\n",
    "    'greed_avoidance',\n",
    "    'modesty',\n",
    "    'fearfulness',\n",
    "    'anxiety',\n",
    "    'dependence',\n",
    "    'sentimentality',\n",
    "    'social_self_esteem',\n",
    "    'social_boldness',\n",
    "    'sociability',\n",
    "    'liveliness',\n",
    "    'forgiveness',\n",
    "    'gentleness',\n",
    "    'flexibility',\n",
    "    'patience',\n",
    "    'organization',\n",
    "    'diligence',\n",
    "    'perfectionism',\n",
    "    'prudence',\n",
    "    'aesthetic_appreciation',\n",
    "    'inquisitiveness',\n",
    "    'creativity',\n",
    "    'unconventionality',\n",
    "]\n",
    "\n",
    "HEXACO_FACTORS = [\n",
    "    'honesty',\n",
    "    'emotionality',\n",
    "    'extraversion',\n",
    "    'agreeableness',\n",
    "    'conscientiousness',\n",
    "    'openness'\n",
    "]"
   ]
  },
  {
   "cell_type": "code",
   "execution_count": 12,
   "metadata": {
    "collapsed": true
   },
   "outputs": [],
   "source": [
    "# CHANGE YOUR DB PARAMETERS HERE\n",
    "dsn_database = \"veljkodb\"\n",
    "dsn_hostname = \"127.0.0.1\"\n",
    "dsn_port = \"5432\"\n",
    "dsn_uid = \"veljkopg\"     \n",
    "dsn_pwd = \"pntdcn15\""
   ]
  },
  {
   "cell_type": "code",
   "execution_count": 13,
   "metadata": {
    "collapsed": true
   },
   "outputs": [],
   "source": [
    "def connect_to_db():\n",
    "    global cursor\n",
    "    global conn\n",
    "    try:\n",
    "        conn_string = \"host=\"+dsn_hostname+\" port=\"+dsn_port+\" dbname=\"+dsn_database+\" user=\"+dsn_uid+\" password=\"+dsn_pwd\n",
    "        print \"Connecting to database\\n  ->%s\" % (conn_string)\n",
    "        conn=psycopg2.connect(conn_string)\n",
    "        cursor = conn.cursor()\n",
    "        print \"Connected!\\n\"\n",
    "    except:\n",
    "        print \"Unable to connect to the database.\"\n",
    "    return cursor"
   ]
  },
  {
   "cell_type": "code",
   "execution_count": 14,
   "metadata": {
    "collapsed": true
   },
   "outputs": [],
   "source": [
    "def compute_facets(answers):\n",
    "    def r(i):\n",
    "        return [0, 5, 4, 3, 2, 1][i]\n",
    "\n",
    "    ans = list(map(int, answers.split('|')))\n",
    "    ans = [0] + ans\n",
    "    hexaco_scores = {\n",
    "        'sincerity': (ans[6] + r(ans[30]) + ans[54]) / 3.0,\n",
    "        'fairness': (r(ans[12]) + ans[36] + ans[60]) / 3.0,\n",
    "        'greed_avoidance': (ans[18] + r(ans[42])) / 2.0,\n",
    "        'modesty': (r(ans[24]) + r(ans[48])) / 2.0,\n",
    "        'fearfulness': (ans[5] + ans[29] + r(ans[53])) / 3.0,\n",
    "        'anxiety': (ans[11] + r(ans[35])) / 2.0,\n",
    "        'dependence': (ans[17] + r(ans[41])) / 2.0,\n",
    "        'sentimentality': (ans[23] + ans[47] + r(ans[59])) / 3.0,\n",
    "        'social_self_esteem': (ans[4] + r(ans[28]) + r(ans[52])) / 3.0,\n",
    "        'social_boldness': (r(ans[10]) + ans[34] + ans[58]) / 3.0,\n",
    "        'sociability': (ans[16] + ans[40]) / 2.0,\n",
    "        'liveliness': (ans[22] + r(ans[46])) / 2.0,\n",
    "        'forgiveness': (ans[3] + ans[27]) / 2.0,\n",
    "        'gentleness': (r(ans[9]) + ans[33] + ans[51]) / 3.0,\n",
    "        'flexibility': (r(ans[15]) + ans[39] + r(ans[57])) / 3.0,\n",
    "        'patience': (r(ans[21]) + ans[45]) / 2.0,\n",
    "        'organization': (ans[2] + r(ans[26])) / 2.0,\n",
    "        'diligence': (ans[8] + r(ans[32])) / 2.0,\n",
    "        'perfectionism': (r(ans[14]) + ans[38] + ans[50]) / 3.0,\n",
    "        'prudence': (r(ans[20]) + r(ans[44]) + r(ans[56])) / 3.0,\n",
    "        'aesthetic_appreciation': (r(ans[1]) + ans[25]) / 2.0,\n",
    "        'inquisitiveness': (ans[7] + r(ans[31])) / 2.0,\n",
    "        'creativity': (ans[13] + ans[37] + r(ans[49])) / 3.0,\n",
    "        'unconventionality': (r(ans[19]) + ans[43] + r(ans[55])) / 3.0,\n",
    "    }\n",
    "    return hexaco_scores"
   ]
  },
  {
   "cell_type": "code",
   "execution_count": 15,
   "metadata": {
    "collapsed": true
   },
   "outputs": [],
   "source": [
    "def compute_factors(facets):\n",
    "    hexaco_factors = {\n",
    "        'honesty' : (facets['sincerity'] + facets['fairness']+facets['greed_avoidance']+facets['modesty']) / 4.0,\n",
    "        'emotionality' : (facets['fearfulness'] + facets['anxiety']+facets['dependence']+facets['sentimentality']) / 4.0,\n",
    "        'extraversion' : (facets['social_self_esteem'] + facets['social_boldness']+facets['sociability']+facets['liveliness']) / 4.0,\n",
    "        'agreeableness' : (facets['forgiveness'] + facets['gentleness']+facets['flexibility']+facets['patience']) / 4.0,\n",
    "        'conscientiousness' : (facets['organization'] + facets['diligence']+facets['perfectionism']+facets['prudence']) / 4.0,\n",
    "        'openness' : (facets['aesthetic_appreciation'] + facets['inquisitiveness']+facets['creativity']+facets['unconventionality']) / 4.0\n",
    "    }\n",
    "    return hexaco_factors"
   ]
  },
  {
   "cell_type": "code",
   "execution_count": 16,
   "metadata": {
    "collapsed": true
   },
   "outputs": [],
   "source": [
    "conn = sqlite3.connect('/home/mfrlin/cognitive_load_web/app.db')\n",
    "\n",
    "cur = conn.cursor()\n",
    "cur.execute('SELECT * FROM user')\n",
    "rows = cur.fetchall()\n",
    "\n",
    "users = []\n",
    "for row in rows:\n",
    "    if row[2] is None:\n",
    "        continue\n",
    "    n2_correct, n2_wrong, n2_possible = row[3].split(';')\n",
    "    n3_correct, n3_wrong, n3_possible = row[6].split(';')\n",
    "    user = {'client_id': row[1],\n",
    "            'n2_correct': n2_correct,\n",
    "            'n2_incorrect': n2_wrong,\n",
    "            'n2_all_correct': n2_possible,\n",
    "            'n2_time_start': row[4],\n",
    "            'n3_correct': n3_correct,\n",
    "            'n3_incorrect': n3_wrong,\n",
    "            'n3_all_correct': n3_possible,\n",
    "            'n3_time_start': row[5],\n",
    "            }\n",
    "    facets = compute_facets(row[2])\n",
    "    factors = compute_factors(facets)\n",
    "    user.update(facets)\n",
    "    user.update(factors)\n",
    "    users.append(user)\n",
    "\n",
    "#with open('web_data.csv', 'w') as csvfile:\n",
    "#    fieldnames = ['ident', 'n2_correct', 'n2_wrong', 'n2_possible', 'n2_time',\n",
    "#                  'n3_correct', 'n3_wrong', 'n3_possible', 'n3_time'] + HEXACO_KEYS\n",
    "#    writer = csv.DictWriter(csvfile, fieldnames=fieldnames)\n",
    "#    writer.writeheader()\n",
    "#    for u in users:\n",
    "#        writer.writerow(u)\n",
    "#for u in users:\n",
    "#    print u['client_id'], u['honesty']"
   ]
  },
  {
   "cell_type": "code",
   "execution_count": 17,
   "metadata": {},
   "outputs": [
    {
     "name": "stdout",
     "output_type": "stream",
     "text": [
      "Connecting to database\n",
      "  ->host=127.0.0.1 port=5432 dbname=veljkodb user=veljkopg password=pntdcn15\n",
      "Connected!\n",
      "\n"
     ]
    },
    {
     "ename": "IntegrityError",
     "evalue": "duplicate key value violates unique constraint \"user_profile_pkey\"\nDETAIL:  Key (client_id)=(iz2ps) already exists.\n",
     "output_type": "error",
     "traceback": [
      "\u001b[0;31m---------------------------------------------------------------------------\u001b[0m",
      "\u001b[0;31mIntegrityError\u001b[0m                            Traceback (most recent call last)",
      "\u001b[0;32m<ipython-input-17-a54cb3159c8c>\u001b[0m in \u001b[0;36m<module>\u001b[0;34m()\u001b[0m\n\u001b[1;32m      3\u001b[0m \u001b[0;32mfor\u001b[0m \u001b[0mu\u001b[0m \u001b[0;32min\u001b[0m \u001b[0musers\u001b[0m\u001b[0;34m:\u001b[0m\u001b[0;34m\u001b[0m\u001b[0m\n\u001b[1;32m      4\u001b[0m     \u001b[0;32mif\u001b[0m \u001b[0mcursor\u001b[0m \u001b[0;34m!=\u001b[0m \u001b[0mNone\u001b[0m\u001b[0;34m:\u001b[0m\u001b[0;34m\u001b[0m\u001b[0m\n\u001b[0;32m----> 5\u001b[0;31m         \u001b[0mcursor\u001b[0m\u001b[0;34m.\u001b[0m\u001b[0mexecute\u001b[0m\u001b[0;34m(\u001b[0m\u001b[0;34m\"\"\"INSERT INTO user_profile (client_id, n2_correct, n2_incorrect, n2_all_correct, n2_time_start, n3_correct, n3_incorrect, n3_all_correct, n3_time_start, sincerity, fairness, greed_avoidance, modesty, fearfulness, anxiety, dependence, sentimentality, social_self_esteem, social_boldness, sociability, liveliness, forgiveness, gentleness, flexibility, patience, organization, diligence, perfectionism, prudence, aesthetic_appreciation, inquisitiveness, creativity, unconventionality, honesty, emotionality, extraversion, agreeableness, conscientiousness, openness) VALUES (%s, %s, %s, %s, %s, %s, %s, %s, %s, %s, %s, %s, %s, %s, %s, %s, %s, %s, %s, %s, %s, %s, %s, %s, %s, %s, %s, %s, %s, %s, %s, %s, %s, %s, %s, %s, %s, %s, %s);\"\"\"\u001b[0m\u001b[0;34m,\u001b[0m \u001b[0;34m(\u001b[0m\u001b[0mu\u001b[0m\u001b[0;34m[\u001b[0m\u001b[0;34m'client_id'\u001b[0m\u001b[0;34m]\u001b[0m\u001b[0;34m,\u001b[0m \u001b[0mu\u001b[0m\u001b[0;34m[\u001b[0m\u001b[0;34m'n2_correct'\u001b[0m\u001b[0;34m]\u001b[0m\u001b[0;34m,\u001b[0m \u001b[0mu\u001b[0m\u001b[0;34m[\u001b[0m\u001b[0;34m'n2_incorrect'\u001b[0m\u001b[0;34m]\u001b[0m\u001b[0;34m,\u001b[0m \u001b[0mu\u001b[0m\u001b[0;34m[\u001b[0m\u001b[0;34m'n2_all_correct'\u001b[0m\u001b[0;34m]\u001b[0m\u001b[0;34m,\u001b[0m  \u001b[0mu\u001b[0m\u001b[0;34m[\u001b[0m\u001b[0;34m'n2_time_start'\u001b[0m\u001b[0;34m]\u001b[0m\u001b[0;34m,\u001b[0m \u001b[0mu\u001b[0m\u001b[0;34m[\u001b[0m\u001b[0;34m'n3_correct'\u001b[0m\u001b[0;34m]\u001b[0m\u001b[0;34m,\u001b[0m \u001b[0mu\u001b[0m\u001b[0;34m[\u001b[0m\u001b[0;34m'n3_incorrect'\u001b[0m\u001b[0;34m]\u001b[0m\u001b[0;34m,\u001b[0m \u001b[0mu\u001b[0m\u001b[0;34m[\u001b[0m\u001b[0;34m'n3_all_correct'\u001b[0m\u001b[0;34m]\u001b[0m\u001b[0;34m,\u001b[0m \u001b[0mu\u001b[0m\u001b[0;34m[\u001b[0m\u001b[0;34m'n3_time_start'\u001b[0m\u001b[0;34m]\u001b[0m\u001b[0;34m,\u001b[0m \u001b[0mu\u001b[0m\u001b[0;34m[\u001b[0m\u001b[0;34m'sincerity'\u001b[0m\u001b[0;34m]\u001b[0m\u001b[0;34m,\u001b[0m \u001b[0mu\u001b[0m\u001b[0;34m[\u001b[0m\u001b[0;34m'fairness'\u001b[0m\u001b[0;34m]\u001b[0m\u001b[0;34m,\u001b[0m \u001b[0mu\u001b[0m\u001b[0;34m[\u001b[0m\u001b[0;34m'greed_avoidance'\u001b[0m\u001b[0;34m]\u001b[0m\u001b[0;34m,\u001b[0m \u001b[0mu\u001b[0m\u001b[0;34m[\u001b[0m\u001b[0;34m'modesty'\u001b[0m\u001b[0;34m]\u001b[0m\u001b[0;34m,\u001b[0m \u001b[0mu\u001b[0m\u001b[0;34m[\u001b[0m\u001b[0;34m'fearfulness'\u001b[0m\u001b[0;34m]\u001b[0m\u001b[0;34m,\u001b[0m \u001b[0mu\u001b[0m\u001b[0;34m[\u001b[0m\u001b[0;34m'anxiety'\u001b[0m\u001b[0;34m]\u001b[0m\u001b[0;34m,\u001b[0m \u001b[0mu\u001b[0m\u001b[0;34m[\u001b[0m\u001b[0;34m'dependence'\u001b[0m\u001b[0;34m]\u001b[0m\u001b[0;34m,\u001b[0m \u001b[0mu\u001b[0m\u001b[0;34m[\u001b[0m\u001b[0;34m'sentimentality'\u001b[0m\u001b[0;34m]\u001b[0m\u001b[0;34m,\u001b[0m \u001b[0mu\u001b[0m\u001b[0;34m[\u001b[0m\u001b[0;34m'social_self_esteem'\u001b[0m\u001b[0;34m]\u001b[0m\u001b[0;34m,\u001b[0m  \u001b[0mu\u001b[0m\u001b[0;34m[\u001b[0m\u001b[0;34m'social_boldness'\u001b[0m\u001b[0;34m]\u001b[0m\u001b[0;34m,\u001b[0m  \u001b[0mu\u001b[0m\u001b[0;34m[\u001b[0m\u001b[0;34m'sociability'\u001b[0m\u001b[0;34m]\u001b[0m\u001b[0;34m,\u001b[0m  \u001b[0mu\u001b[0m\u001b[0;34m[\u001b[0m\u001b[0;34m'liveliness'\u001b[0m\u001b[0;34m]\u001b[0m\u001b[0;34m,\u001b[0m  \u001b[0mu\u001b[0m\u001b[0;34m[\u001b[0m\u001b[0;34m'forgiveness'\u001b[0m\u001b[0;34m]\u001b[0m\u001b[0;34m,\u001b[0m  \u001b[0mu\u001b[0m\u001b[0;34m[\u001b[0m\u001b[0;34m'gentleness'\u001b[0m\u001b[0;34m]\u001b[0m\u001b[0;34m,\u001b[0m \u001b[0mu\u001b[0m\u001b[0;34m[\u001b[0m\u001b[0;34m'flexibility'\u001b[0m\u001b[0;34m]\u001b[0m\u001b[0;34m,\u001b[0m  \u001b[0mu\u001b[0m\u001b[0;34m[\u001b[0m\u001b[0;34m'patience'\u001b[0m\u001b[0;34m]\u001b[0m\u001b[0;34m,\u001b[0m  \u001b[0mu\u001b[0m\u001b[0;34m[\u001b[0m\u001b[0;34m'organization'\u001b[0m\u001b[0;34m]\u001b[0m\u001b[0;34m,\u001b[0m \u001b[0mu\u001b[0m\u001b[0;34m[\u001b[0m\u001b[0;34m'diligence'\u001b[0m\u001b[0;34m]\u001b[0m\u001b[0;34m,\u001b[0m \u001b[0mu\u001b[0m\u001b[0;34m[\u001b[0m\u001b[0;34m'perfectionism'\u001b[0m\u001b[0;34m]\u001b[0m\u001b[0;34m,\u001b[0m \u001b[0mu\u001b[0m\u001b[0;34m[\u001b[0m\u001b[0;34m'prudence'\u001b[0m\u001b[0;34m]\u001b[0m\u001b[0;34m,\u001b[0m \u001b[0mu\u001b[0m\u001b[0;34m[\u001b[0m\u001b[0;34m'aesthetic_appreciation'\u001b[0m\u001b[0;34m]\u001b[0m\u001b[0;34m,\u001b[0m \u001b[0mu\u001b[0m\u001b[0;34m[\u001b[0m\u001b[0;34m'inquisitiveness'\u001b[0m\u001b[0;34m]\u001b[0m\u001b[0;34m,\u001b[0m \u001b[0mu\u001b[0m\u001b[0;34m[\u001b[0m\u001b[0;34m'creativity'\u001b[0m\u001b[0;34m]\u001b[0m\u001b[0;34m,\u001b[0m \u001b[0mu\u001b[0m\u001b[0;34m[\u001b[0m\u001b[0;34m'unconventionality'\u001b[0m\u001b[0;34m]\u001b[0m\u001b[0;34m,\u001b[0m \u001b[0mu\u001b[0m\u001b[0;34m[\u001b[0m\u001b[0;34m'honesty'\u001b[0m\u001b[0;34m]\u001b[0m\u001b[0;34m,\u001b[0m \u001b[0mu\u001b[0m\u001b[0;34m[\u001b[0m\u001b[0;34m'emotionality'\u001b[0m\u001b[0;34m]\u001b[0m\u001b[0;34m,\u001b[0m \u001b[0mu\u001b[0m\u001b[0;34m[\u001b[0m\u001b[0;34m'extraversion'\u001b[0m\u001b[0;34m]\u001b[0m\u001b[0;34m,\u001b[0m \u001b[0mu\u001b[0m\u001b[0;34m[\u001b[0m\u001b[0;34m'agreeableness'\u001b[0m\u001b[0;34m]\u001b[0m\u001b[0;34m,\u001b[0m \u001b[0mu\u001b[0m\u001b[0;34m[\u001b[0m\u001b[0;34m'conscientiousness'\u001b[0m\u001b[0;34m]\u001b[0m\u001b[0;34m,\u001b[0m \u001b[0mu\u001b[0m\u001b[0;34m[\u001b[0m\u001b[0;34m'openness'\u001b[0m\u001b[0;34m]\u001b[0m\u001b[0;34m)\u001b[0m\u001b[0;34m)\u001b[0m\u001b[0;34m\u001b[0m\u001b[0m\n\u001b[0m\u001b[1;32m      6\u001b[0m         \u001b[0;32mprint\u001b[0m \u001b[0;34m\"executed\"\u001b[0m\u001b[0;34m,\u001b[0m \u001b[0mu\u001b[0m\u001b[0;34m[\u001b[0m\u001b[0;34m'client_id'\u001b[0m\u001b[0;34m]\u001b[0m\u001b[0;34m\u001b[0m\u001b[0m\n",
      "\u001b[0;31mIntegrityError\u001b[0m: duplicate key value violates unique constraint \"user_profile_pkey\"\nDETAIL:  Key (client_id)=(iz2ps) already exists.\n"
     ]
    }
   ],
   "source": [
    "connect_to_db()\n",
    "\n",
    "for u in users:\n",
    "    if cursor != None:\n",
    "        cursor.execute(\"\"\"INSERT INTO user_profile (client_id, n2_correct, n2_incorrect, n2_all_correct, n2_time_start, n3_correct, n3_incorrect, n3_all_correct, n3_time_start, sincerity, fairness, greed_avoidance, modesty, fearfulness, anxiety, dependence, sentimentality, social_self_esteem, social_boldness, sociability, liveliness, forgiveness, gentleness, flexibility, patience, organization, diligence, perfectionism, prudence, aesthetic_appreciation, inquisitiveness, creativity, unconventionality, honesty, emotionality, extraversion, agreeableness, conscientiousness, openness) VALUES (%s, %s, %s, %s, %s, %s, %s, %s, %s, %s, %s, %s, %s, %s, %s, %s, %s, %s, %s, %s, %s, %s, %s, %s, %s, %s, %s, %s, %s, %s, %s, %s, %s, %s, %s, %s, %s, %s, %s);\"\"\", (u['client_id'], u['n2_correct'], u['n2_incorrect'], u['n2_all_correct'],  u['n2_time_start'], u['n3_correct'], u['n3_incorrect'], u['n3_all_correct'], u['n3_time_start'], u['sincerity'], u['fairness'], u['greed_avoidance'], u['modesty'], u['fearfulness'], u['anxiety'], u['dependence'], u['sentimentality'], u['social_self_esteem'],  u['social_boldness'],  u['sociability'],  u['liveliness'],  u['forgiveness'],  u['gentleness'], u['flexibility'],  u['patience'],  u['organization'], u['diligence'], u['perfectionism'], u['prudence'], u['aesthetic_appreciation'], u['inquisitiveness'], u['creativity'], u['unconventionality'], u['honesty'], u['emotionality'], u['extraversion'], u['agreeableness'], u['conscientiousness'], u['openness']))\n",
    "        print \"executed\", u['client_id']"
   ]
  },
  {
   "cell_type": "code",
   "execution_count": 9,
   "metadata": {
    "collapsed": true
   },
   "outputs": [],
   "source": [
    "# Run this to commit the changes \n",
    "# Alternatively, uncomment \"rollback\" and comment \"commit\" in order to start again.\n",
    "\n",
    "conn.commit()\n",
    "#conn.rollback()\n",
    "cursor.close()\n",
    "conn.close()"
   ]
  },
  {
   "cell_type": "code",
   "execution_count": null,
   "metadata": {
    "collapsed": true
   },
   "outputs": [],
   "source": []
  }
 ],
 "metadata": {
  "kernelspec": {
   "display_name": "Python 2",
   "language": "python",
   "name": "python2"
  },
  "language_info": {
   "codemirror_mode": {
    "name": "ipython",
    "version": 2
   },
   "file_extension": ".py",
   "mimetype": "text/x-python",
   "name": "python",
   "nbconvert_exporter": "python",
   "pygments_lexer": "ipython2",
   "version": "2.7.12"
  }
 },
 "nbformat": 4,
 "nbformat_minor": 2
}
