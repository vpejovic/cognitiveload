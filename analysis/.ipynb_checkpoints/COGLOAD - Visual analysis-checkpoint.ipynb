{
 "cells": [
  {
   "cell_type": "markdown",
   "metadata": {},
   "source": [
    "Visual analysis of COGLOAD experiments data."
   ]
  },
  {
   "cell_type": "code",
   "execution_count": 97,
   "metadata": {
    "collapsed": true
   },
   "outputs": [],
   "source": [
    "import psycopg2\n",
    "import sys\n",
    "import datetime\n",
    "import pandas as pd\n",
    "from pandas import DataFrame\n",
    "import matplotlib.pyplot as plt\n",
    "import matplotlib.ticker as ticker\n",
    "import matplotlib.dates as dates\n",
    "import numpy as np"
   ]
  },
  {
   "cell_type": "code",
   "execution_count": 123,
   "metadata": {
    "collapsed": true
   },
   "outputs": [],
   "source": [
    "# Reset the whole process - taskIds start from zero\n",
    "dsn_database = \"veljkodb\"\n",
    "dsn_hostname = \"127.0.0.1\"\n",
    "dsn_port = \"5432\"\n",
    "dsn_uid = \"veljkopg\"     \n",
    "dsn_pwd = \"pntdcn15\"\n",
    "\n",
    "user_id = \"dkhty\" # CHANGE USER ID HERE! NOTE: \"7yvd4\" WAS USED FOR TESTING, SO THAT ID SHOULD PROBABLY BE AVOIDED"
   ]
  },
  {
   "cell_type": "code",
   "execution_count": 64,
   "metadata": {},
   "outputs": [
    {
     "name": "stdout",
     "output_type": "stream",
     "text": [
      "Connecting to database\n",
      "  ->host=127.0.0.1 port=5432 dbname=veljkodb user=veljkopg password=pntdcn15\n",
      "Connected!\n",
      "\n"
     ]
    }
   ],
   "source": [
    "# CHANGE YOUR DB PARAMETERS HERE\n",
    "try:\n",
    "    conn_string = \"host=\"+dsn_hostname+\" port=\"+dsn_port+\" dbname=\"+dsn_database+\" user=\"+dsn_uid+\" password=\"+dsn_pwd\n",
    "    print \"Connecting to database\\n  ->%s\" % (conn_string)\n",
    "    conn=psycopg2.connect(conn_string)\n",
    "    print \"Connected!\\n\"\n",
    "except:\n",
    "    print \"Unable to connect to the database.\""
   ]
  },
  {
   "cell_type": "code",
   "execution_count": 124,
   "metadata": {
    "collapsed": true
   },
   "outputs": [],
   "source": [
    "cursor = conn.cursor()\n",
    "cursor.execute(\"\"\"SELECT timestamp,hr,rr,gsr from sinkerdatasql WHERE client_id=(%s)\"\"\", (user_id,))\n",
    "df_iot = DataFrame(cursor.fetchall(), columns=['timestamp', 'hr','rr','gsr'] )\n",
    "df_iot=df_iot.set_index(['timestamp'])\n",
    "df_iot.index = pd.to_datetime(df_iot.index, unit='ms')\n",
    "\n",
    "cursor.execute(\"\"\"SELECT timestamp,opacity from secondary_task WHERE client_id=(%s)\"\"\", (user_id,))\n",
    "df_sec = DataFrame(cursor.fetchall(), columns=['timestamp', 'opacity'] )\n",
    "df_sec=df_sec.set_index(['timestamp'])\n",
    "df_sec.index = pd.to_datetime(df_sec.index, unit='ms')\n",
    "\n",
    "cursor.execute(\"\"\"SELECT time_start, time_end, label, task_load_index from primary_task WHERE client_id=(%s)\"\"\", (user_id,))\n",
    "df_prim = DataFrame(cursor.fetchall(), columns=['time_start', 'time_end', 'label','task_load_index'] )\n",
    "df_prim=df_prim.set_index(['time_start'])\n",
    "df_prim.index = pd.to_datetime(df_prim.index, unit='ms')\n",
    "df_prim.time_end = pd.to_datetime(df_prim.time_end, unit='ms')"
   ]
  },
  {
   "cell_type": "code",
   "execution_count": 126,
   "metadata": {
    "scrolled": true
   },
   "outputs": [
    {
     "data": {
      "image/png": "[encoded data removed]",
      "text/plain": [
       "<matplotlib.figure.Figure at 0x7f547e296f10>"
      ]
     },
     "metadata": {},
     "output_type": "display_data"
    }
   ],
   "source": [
    "fig = plt.figure(figsize=(30,5))\n",
    "ax = fig.add_subplot(111)\n",
    "\n",
    "ax.plot(df_iot.hr, label='HR', linewidth=0.0, linestyle='-', marker='.', markersize=2)\n",
    "ax.plot(df_iot.rr*100, label='RR', linewidth=0.0, linestyle='-', marker='.', markersize=2)\n",
    "plt.plot(df_iot.gsr, label='GSR', linewidth=0.0, linestyle='-', marker='.', markersize=2)\n",
    "\n",
    "ax.plot(df_sec.opacity*100, label='Opacity [x100]', linewidth=0.0, linestyle='-', marker='.', markersize=5)\n",
    "ax.plot(df_prim.task_load_index*5, label='Task load index [x5]', linewidth=0.0, linestyle='-', marker='+', markersize=15)\n",
    "\n",
    "xposition = df_prim.index.values\n",
    "for xc in xposition:\n",
    "    ax.axvline(x=xc)\n",
    "\n",
    "xposition = df_prim.time_end.values\n",
    "for xc in xposition:\n",
    "    ax.axvline(x=xc, color='r',)\n",
    "\n",
    "ax.set_ylim(0, 200)\n",
    "\n",
    "#ax.set_xlim([datetime.datetime(2017, 10, 17,8,30), datetime.datetime(2017, 10, 17,10, 30)])\n",
    "\n",
    "plt.legend()\n",
    "plt.grid()\n",
    "plt.show()"
   ]
  },
  {
   "cell_type": "code",
   "execution_count": 25,
   "metadata": {
    "collapsed": true
   },
   "outputs": [],
   "source": [
    "conn.close()"
   ]
  }
 ],
 "metadata": {
  "kernelspec": {
   "display_name": "Python 2",
   "language": "python",
   "name": "python2"
  },
  "language_info": {
   "codemirror_mode": {
    "name": "ipython",
    "version": 2
   },
   "file_extension": ".py",
   "mimetype": "text/x-python",
   "name": "python",
   "nbconvert_exporter": "python",
   "pygments_lexer": "ipython2",
   "version": "2.7.12"
  }
 },
 "nbformat": 4,
 "nbformat_minor": 2
}
