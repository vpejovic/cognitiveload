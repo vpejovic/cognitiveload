{
 "cells": [
  {
   "cell_type": "code",
   "execution_count": null,
   "metadata": {
    "collapsed": true
   },
   "outputs": [],
   "source": [
    "import psycopg2\n",
    "import csv\n",
    "import sqlite3"
   ]
  },
  {
   "cell_type": "code",
   "execution_count": 2,
   "metadata": {
    "collapsed": true
   },
   "outputs": [],
   "source": [
    "HEXACO_FACETS = [\n",
    "    'sincerity',\n",
    "    'fairness',\n",
    "    'greed-avoidance',\n",
    "    'modesty',\n",
    "    'fearfulness',\n",
    "    'anxiety',\n",
    "    'dependence',\n",
    "    'sentimentality',\n",
    "    'social-self-esteem',\n",
    "    'social-boldness',\n",
    "    'sociability',\n",
    "    'liveliness',\n",
    "    'forgiveness',\n",
    "    'gentleness',\n",
    "    'flexibility',\n",
    "    'patience',\n",
    "    'organization',\n",
    "    'diligence',\n",
    "    'perfectionism',\n",
    "    'prudence',\n",
    "    'aesthetic-appreciation',\n",
    "    'inquisitiveness',\n",
    "    'creativity',\n",
    "    'unconventionality',\n",
    "]\n",
    "\n",
    "HEXACO_FACTORS = [\n",
    "    'honesty',\n",
    "    'emotionality',\n",
    "    'extraversion',\n",
    "    'agreeableness',\n",
    "    'conscientiousness',\n",
    "    'openness'\n",
    "]"
   ]
  },
  {
   "cell_type": "code",
   "execution_count": null,
   "metadata": {
    "collapsed": true
   },
   "outputs": [],
   "source": [
    "# CHANGE YOUR DB PARAMETERS HERE\n",
    "dsn_database = \"veljkodb\"\n",
    "dsn_hostname = \"127.0.0.1\"\n",
    "dsn_port = \"5432\"\n",
    "dsn_uid = \"veljkopg\"     \n",
    "dsn_pwd = \"pntdcn15\""
   ]
  },
  {
   "cell_type": "code",
   "execution_count": null,
   "metadata": {
    "collapsed": true
   },
   "outputs": [],
   "source": [
    "def connect_to_db():\n",
    "    global cursor\n",
    "    global conn\n",
    "    try:\n",
    "        conn_string = \"host=\"+dsn_hostname+\" port=\"+dsn_port+\" dbname=\"+dsn_database+\" user=\"+dsn_uid+\" password=\"+dsn_pwd\n",
    "        print \"Connecting to database\\n  ->%s\" % (conn_string)\n",
    "        conn=psycopg2.connect(conn_string)\n",
    "        cursor = conn.cursor()\n",
    "        print \"Connected!\\n\"\n",
    "    except:\n",
    "        print \"Unable to connect to the database.\"\n",
    "    return cursor"
   ]
  },
  {
   "cell_type": "code",
   "execution_count": null,
   "metadata": {
    "collapsed": true
   },
   "outputs": [],
   "source": [
    "\n",
    "cur.execute(\"CREATE TABLE user (client_id serial PRIMARY KEY, num integer, data varchar);\")"
   ]
  },
  {
   "cell_type": "code",
   "execution_count": 3,
   "metadata": {
    "collapsed": true
   },
   "outputs": [],
   "source": [
    "def compute_facets(answers):\n",
    "    def r(i):\n",
    "        return [0, 5, 4, 3, 2, 1][i]\n",
    "\n",
    "    ans = list(map(int, answers.split('|')))\n",
    "    ans = [0] + ans\n",
    "    hexaco_scores = {\n",
    "        'sincerity': (ans[6] + r(ans[30]) + ans[54]) / 3.0,\n",
    "        'fairness': (r(ans[12]) + ans[36] + ans[60]) / 3.0,\n",
    "        'greed-avoidance': (ans[18] + r(ans[42])) / 2.0,\n",
    "        'modesty': (r(ans[24]) + r(ans[48])) / 2.0,\n",
    "        'fearfulness': (ans[5] + ans[29] + r(ans[53])) / 3.0,\n",
    "        'anxiety': (ans[11] + r(ans[35])) / 2.0,\n",
    "        'dependence': (ans[17] + r(ans[41])) / 2.0,\n",
    "        'sentimentality': (ans[23] + ans[47] + r(ans[59])) / 3.0,\n",
    "        'social-self-esteem': (ans[4] + r(ans[28]) + r(ans[52])) / 3.0,\n",
    "        'social-boldness': (r(ans[10]) + ans[34] + ans[58]) / 3.0,\n",
    "        'sociability': (ans[16] + ans[40]) / 2.0,\n",
    "        'liveliness': (ans[22] + r(ans[46])) / 2.0,\n",
    "        'forgiveness': (ans[3] + ans[27]) / 2.0,\n",
    "        'gentleness': (r(ans[9]) + ans[33] + ans[51]) / 3.0,\n",
    "        'flexibility': (r(ans[15]) + ans[39] + r(ans[57])) / 3.0,\n",
    "        'patience': (r(ans[21]) + ans[45]) / 2.0,\n",
    "        'organization': (ans[2] + r(ans[26])) / 2.0,\n",
    "        'diligence': (ans[8] + r(ans[32])) / 2.0,\n",
    "        'perfectionism': (r(ans[14]) + ans[38] + ans[50]) / 3.0,\n",
    "        'prudence': (r(ans[20]) + r(ans[44]) + r(ans[56])) / 3.0,\n",
    "        'aesthetic-appreciation': (r(ans[1]) + ans[25]) / 2.0,\n",
    "        'inquisitiveness': (ans[7] + r(ans[31])) / 2.0,\n",
    "        'creativity': (ans[13] + ans[37] + r(ans[49])) / 3.0,\n",
    "        'unconventionality': (r(ans[19]) + ans[43] + r(ans[55])) / 3.0,\n",
    "    }\n",
    "    return hexaco_scores"
   ]
  },
  {
   "cell_type": "code",
   "execution_count": 6,
   "metadata": {
    "collapsed": true
   },
   "outputs": [],
   "source": [
    "def compute_factors(facets):\n",
    "    hexaco_factors = {\n",
    "        'honesty' : (facets['sincerity'] + facets['fairness']+facets['greed-avoidance']+facets['modesty']) / 4.0,\n",
    "        'emotionality' : (facets['fearfulness'] + facets['anxiety']+facets['dependence']+facets['sentimentality']) / 4.0,\n",
    "        'extraversion' : (facets['social-self-esteem'] + facets['social-boldness']+facets['sociability']+facets['liveliness']) / 4.0,\n",
    "        'agreeableness' : (facets['forgiveness'] + facets['gentleness']+facets['flexibility']+facets['patience']) / 4.0,\n",
    "        'conscientiousness' : (facets['organization'] + facets['diligence']+facets['perfectionism']+facets['prudence']) / 4.0,\n",
    "        'openness' : (facets['aesthetic-appreciation'] + facets['inquisitiveness']+facets['creativity']+facets['unconventionality']) / 4.0\n",
    "    }\n",
    "    return hexaco_factors"
   ]
  },
  {
   "cell_type": "code",
   "execution_count": 8,
   "metadata": {},
   "outputs": [
    {
     "name": "stdout",
     "output_type": "stream",
     "text": [
      "iz2ps 3.04166666667\n",
      "7swyk 4.33333333333\n",
      "e4gay 4.33333333333\n",
      "2gu87 3.66666666667\n",
      "f1gjp 3.91666666667\n",
      "ef5rq 3.20833333333\n",
      "ctsax 2.58333333333\n",
      "bd47a 3.0\n",
      "c24ur 3.66666666667\n",
      "hpbxa 3.58333333333\n",
      "tn4vl 3.66666666667\n",
      "1mpau 3.75\n",
      "dkhty 1.66666666667\n",
      "f3j25 3.0\n",
      "yljm5 3.45833333333\n",
      "ibvx8 3.25\n",
      "b7mrd 2.20833333333\n",
      "2nxs5 2.83333333333\n",
      "wjxci 3.20833333333\n",
      "lmdxn 3.58333333333\n",
      "5gpsc 3.75\n",
      "rc1in 3.70833333333\n",
      "8a1ep 3.08333333333\n",
      "5j37e 2.91666666667\n",
      "6frz4 3.04166666667\n",
      "iz3x1 2.75\n",
      "3caqi 3.25\n"
     ]
    }
   ],
   "source": [
    "conn = sqlite3.connect('/home/mfrlin/cognitive_load_web/app.db')\n",
    "\n",
    "cur = conn.cursor()\n",
    "cur.execute('SELECT * FROM user')\n",
    "rows = cur.fetchall()\n",
    "\n",
    "users = []\n",
    "for row in rows:\n",
    "    if row[2] is None:\n",
    "        continue\n",
    "    n2_correct, n2_wrong, n2_possible = row[3].split(';')\n",
    "    n3_correct, n3_wrong, n3_possible = row[6].split(';')\n",
    "    user = {'client_id': row[1],\n",
    "            'n2_correct': n2_correct,\n",
    "            'n2_wrong': n2_wrong,\n",
    "            'n2_possible': n2_possible,\n",
    "            'n2_time': row[4],\n",
    "            'n3_correct': n3_correct,\n",
    "            'n3_wrong': n3_wrong,\n",
    "            'n3_possible': n3_possible,\n",
    "            'n3_time': row[5],\n",
    "            }\n",
    "    facets = compute_facets(row[2])\n",
    "    factors = compute_factors(facets)\n",
    "    user.update(facets)\n",
    "    user.update(factors)\n",
    "    users.append(user)\n",
    "\n",
    "#with open('web_data.csv', 'w') as csvfile:\n",
    "#    fieldnames = ['ident', 'n2_correct', 'n2_wrong', 'n2_possible', 'n2_time',\n",
    "#                  'n3_correct', 'n3_wrong', 'n3_possible', 'n3_time'] + HEXACO_KEYS\n",
    "#    writer = csv.DictWriter(csvfile, fieldnames=fieldnames)\n",
    "#    writer.writeheader()\n",
    "#    for u in users:\n",
    "#        writer.writerow(u)\n",
    "\n",
    "for u in users:\n",
    "    print u['client_id'], u['honesty']"
   ]
  },
  {
   "cell_type": "code",
   "execution_count": 10,
   "metadata": {},
   "outputs": [
    {
     "name": "stdout",
     "output_type": "stream",
     "text": [
      "['sincerity', 'fairness', 'greed-avoidance', 'modesty', 'fearfulness', 'anxiety', 'dependence', 'sentimentality', 'social-self-esteem', 'social-boldness', 'sociability', 'liveliness', 'forgiveness', 'gentleness', 'flexibility', 'patience', 'organization', 'diligence', 'perfectionism', 'prudence', 'aesthetic-appreciation', 'inquisitiveness', 'creativity', 'unconventionality']\n"
     ]
    }
   ],
   "source": [
    "print HEXACO_FACETS"
   ]
  },
  {
   "cell_type": "code",
   "execution_count": null,
   "metadata": {
    "collapsed": true
   },
   "outputs": [],
   "source": [
    "    if cursor != None:\n",
    "        cursor.execute(\"\"\"INSERT INTO user_profile (client_id, age, sex_male, hand_right, education, n2_correct,\n",
    "        n2_incorrect, n2_all_correct, n2_time_start, n3_correct, n3_incorrect, n3_all_correct, n3_time_start,\n",
    "        sincerity, fairness, greed_avoidance, modesty, fearfulness, anxiety, dependence, sentimentality, social_self_esteem,\n",
    "        social_boldness, sociability, liveliness, forgiveness, gentleness, flexibility, patience, organization,\n",
    "        diligence, perfectionism, prudence, aesthetic_appreciation, inquisitiveness, creativity, unconventionality,\n",
    "        honesty, emotionality, extraversion, agreeableness, conscientiousness, openness) VALUES (%s, %s, %s, %s, %s,\n",
    "        %s, %s, %s, %s, %s, %s, %s, %s, %s, %s, %s, %s, %s, %s, %s, %s, %s, %s, %s, %s, %s, %s, %s, %s, %s,\n",
    "        %s, %s, %s, %s, %s, %s, %s, %s, %s, %s, %s, %s, %s);\"\"\", (u['client_id'], ....)\n",
    "        \n",
    "        \n",
    "        sec_task_id, prim_task_id, client_id, timestamp, opacity, finished) VALUES (%s, %s, %s, %s, %s, %s);\"\"\", \n",
    "            (curr_sec_task_id,\n",
    "             curr_task_id,\n",
    "                    client_id,\n",
    "                    start_time_sec,\n",
    "                    opacity,\n",
    "                    \"true\"))            "
   ]
  }
 ],
 "metadata": {
  "kernelspec": {
   "display_name": "Python 2",
   "language": "python",
   "name": "python2"
  },
  "language_info": {
   "codemirror_mode": {
    "name": "ipython",
    "version": 2
   },
   "file_extension": ".py",
   "mimetype": "text/x-python",
   "name": "python",
   "nbconvert_exporter": "python",
   "pygments_lexer": "ipython2",
   "version": "2.7.12"
  }
 },
 "nbformat": 4,
 "nbformat_minor": 2
}
